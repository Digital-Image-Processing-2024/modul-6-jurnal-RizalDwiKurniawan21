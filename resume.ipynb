{
 "cells": [
  {
   "cell_type": "markdown",
   "metadata": {},
   "source": [
    "# Resume Finger Simulation Experiment - F1D022091"
   ]
  },
  {
   "cell_type": "markdown",
   "metadata": {},
   "source": [
    "## Data Understanding"
   ]
  },
  {
   "cell_type": "markdown",
   "metadata": {},
   "source": [
    "Dalam project ini, saya menggunakan kumpulan data gambar yang merupakan semulasi dari sidik jari manusia. Di project ini terdapat lima kelas utama, yang masing-masing merepresentasikan satu jenis sidik jari. Dataset didapatkan dari pengambilan gambar langsung sidik jari."
   ]
  },
  {
   "cell_type": "markdown",
   "metadata": {},
   "source": [
    "## Data Preparation"
   ]
  },
  {
   "cell_type": "markdown",
   "metadata": {},
   "source": [
    "### Image Augmentation"
   ]
  },
  {
   "cell_type": "markdown",
   "metadata": {},
   "source": [
    "Kombinasi teknik augmentasi yang digunakan yaitu rotasi dan pencerminan. Langkah pertama, menerapkan rotasi pada gambar asli dengan memutarnya sebanyak 90 derajat ke kanan dan ke kiri. Selanjutnya, melakukan pencerminan horizontal dan vertikal untuk menciptakan variasi dalam orientasi gambar. Dari satu gambar asli, akan menghasilkan sejumlah banyakData * 4 gambar baru."
   ]
  },
  {
   "cell_type": "markdown",
   "metadata": {},
   "source": [
    "### Preprocessing"
   ]
  },
  {
   "cell_type": "markdown",
   "metadata": {},
   "source": [
    "Dari percobaan yang dilakukan, preprocessing yang paling tepat ditemukan melalui eksperimen dan evaluasi menggunakan matriks seperti akurasi, presisi, dan recall. Kombinasi teknik yang diuji meliputi grayscale, normalisasi, median filter, konvolusi, dan prewitt. Teknik-teknik ini dipilih karena grayscale mengurangi kompleksitas data, normalisasi mempercepat konvergensi dan meningkatkan stabilitas pelatihan, median filter mengurangi noise tanpa mengaburkan tepi, dan konvolusi serta prewitt menonjolkan fitur penting seperti tepi dan kontur. Preprocessing diperlukan untuk meningkatkan kualitas data, memastikan konsistenti, dan mengurangi kompleksitas gambar, sehingga mempercepat proses pelatihan dan meningkatkan kinerja model."
   ]
  },
  {
   "cell_type": "markdown",
   "metadata": {},
   "source": [
    "### Feature Selection"
   ]
  },
  {
   "cell_type": "markdown",
   "metadata": {},
   "source": [
    "Fitur yang paling tepat dipilih melalui serangkaian eksperimen sistematis. Berbagai fitur tekstur dari matriks co-occurrence level abu-abu (GLCM) dievaluasi, termasuk kontras, dissimilarity, homogenitas, entropi, ASM, energi, dan korelasi. Setiap fitur dievaluasi berdasarkan kemampuannya untuk meningkatkan kinerja model dengan metrik seperti akurasi, presisi, dan recall. Fitur-fitur kontras dan dissimilarity digunakan untuk mendeteksi tepi dan detail, homogenitas menilai kedekatan elemen dalam GLCM, entropi mengukur ketidakteraturan dalam gambar, dan ASM serta energi menunjukkan kehalusan tekstur. Korelasi mengukur hubungan linear antara piksel untuk mengidentifikasi pola dalam gambar. Fitur-fitur ini diperlukan karena memberikan informasi mendalam tentang tekstur dan struktur gambar, yang sangat penting untuk tugas pengenalan pola dan klasifikasi."
   ]
  },
  {
   "cell_type": "markdown",
   "metadata": {},
   "source": [
    "## Modeling"
   ]
  },
  {
   "cell_type": "markdown",
   "metadata": {},
   "source": [
    "Dalam melakukan hyperparameter tuning, digunakan metode grid search cross-validation, dengan menentukan rentang nilai untuk setiap hyperparameter, kemudian menggunakan GridSearchCV untuk mencari kombinasi terbaik dari hyperparamater tersebut. Model terbaik yang dihasilkan digunakan untuk melakukan prediksi pada data uji."
   ]
  },
  {
   "cell_type": "markdown",
   "metadata": {},
   "source": [
    "## Evaluation"
   ]
  },
  {
   "cell_type": "markdown",
   "metadata": {},
   "source": [
    "Dalam melihat peningkatan performa model dari metrics yang digunakan pada berbagai percobaan, perubahan dalam classification report dan confusion matrix dari setiap model, termasuk KNN, SVM, dan Random Forest, menjadi fokus utama. Peningkatan nilai precision, recall, dan f1-score dalam classification report, serta peningkatan jumlah true positives dan penurunan false positives dan false negatives dalam confusion matrix, menunjukkan kemajuan model. Dengan memantau perubahan ini, dapat diidentifikasi faktor-faktor yang memengaruhi performa model dan membuat penyesuaian yang diperlukan untuk meningkatkan kinerja keseluruhan."
   ]
  }
 ],
 "metadata": {
  "language_info": {
   "name": "python"
  }
 },
 "nbformat": 4,
 "nbformat_minor": 2
}
